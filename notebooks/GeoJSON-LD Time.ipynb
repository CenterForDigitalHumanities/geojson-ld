{
 "metadata": {
  "name": ""
 },
 "nbformat": 3,
 "nbformat_minor": 0,
 "worksheets": [
  {
   "cells": [
    {
     "cell_type": "code",
     "collapsed": false,
     "input": [
      "import json"
     ],
     "language": "python",
     "metadata": {},
     "outputs": [],
     "prompt_number": 1
    },
    {
     "cell_type": "code",
     "collapsed": false,
     "input": [
      "instant = {\n",
      "    'type': 'Feature',\n",
      "    'geometry': {'type': 'Point', 'coordinates': [0.0, 0.0]},\n",
      "    'when': {'type': 'Instant', 'datetime': '2014-04-24'}}\n",
      "print json.dumps(instant, indent=2)"
     ],
     "language": "python",
     "metadata": {},
     "outputs": [
      {
       "output_type": "stream",
       "stream": "stdout",
       "text": [
        "{\n",
        "  \"geometry\": {\n",
        "    \"type\": \"Point\", \n",
        "    \"coordinates\": [\n",
        "      0.0, \n",
        "      0.0\n",
        "    ]\n",
        "  }, \n",
        "  \"when\": {\n",
        "    \"type\": \"Instant\", \n",
        "    \"datetime\": \"2014-04-24\"\n",
        "  }, \n",
        "  \"type\": \"Feature\"\n",
        "}\n"
       ]
      }
     ],
     "prompt_number": 2
    },
    {
     "cell_type": "code",
     "collapsed": false,
     "input": [
      "interval = {\n",
      "    'type': 'Feature',\n",
      "    'geometry': {'type': 'Point', 'coordinates': [0.0, 0.0]},\n",
      "    'when': {'type': 'Interval', 'start': '2014-04-24', 'stop': '2014-04-25'}}\n",
      "print json.dumps(interval, indent=2)"
     ],
     "language": "python",
     "metadata": {},
     "outputs": [
      {
       "output_type": "stream",
       "stream": "stdout",
       "text": [
        "{\n",
        "  \"geometry\": {\n",
        "    \"type\": \"Point\", \n",
        "    \"coordinates\": [\n",
        "      0.0, \n",
        "      0.0\n",
        "    ]\n",
        "  }, \n",
        "  \"when\": {\n",
        "    \"stop\": \"2014-04-25\", \n",
        "    \"start\": \"2014-04-24\", \n",
        "    \"type\": \"Interval\"\n",
        "  }, \n",
        "  \"type\": \"Feature\"\n",
        "}\n"
       ]
      }
     ],
     "prompt_number": 3
    },
    {
     "cell_type": "code",
     "collapsed": false,
     "input": [
      "since = {\n",
      "    'type': 'Feature',\n",
      "    'geometry': {'type': 'Point', 'coordinates': [0.0, 0.0]},\n",
      "    'when': {'type': 'Interval', 'start': '2014-04-24'}}\n",
      "print json.dumps(since, indent=2)"
     ],
     "language": "python",
     "metadata": {},
     "outputs": [
      {
       "output_type": "stream",
       "stream": "stdout",
       "text": [
        "{\n",
        "  \"geometry\": {\n",
        "    \"type\": \"Point\", \n",
        "    \"coordinates\": [\n",
        "      0.0, \n",
        "      0.0\n",
        "    ]\n",
        "  }, \n",
        "  \"when\": {\n",
        "    \"start\": \"2014-04-24\", \n",
        "    \"type\": \"Interval\"\n",
        "  }, \n",
        "  \"type\": \"Feature\"\n",
        "}\n"
       ]
      }
     ],
     "prompt_number": 4
    },
    {
     "cell_type": "code",
     "collapsed": false,
     "input": [
      "fuzzy = {\n",
      "    'type': 'Feature',\n",
      "    'geometry': {'type': 'Point', 'coordinates': [0.0, 0.0]},\n",
      "    'when': {'type': 'Instant', 'datetime': '2014-04-24', 'earliest': '2014-04-23', 'latest': '2014-04-25'}}\n",
      "print json.dumps(fuzzy, indent=2)"
     ],
     "language": "python",
     "metadata": {},
     "outputs": [
      {
       "output_type": "stream",
       "stream": "stdout",
       "text": [
        "{\n",
        "  \"geometry\": {\n",
        "    \"type\": \"Point\", \n",
        "    \"coordinates\": [\n",
        "      0.0, \n",
        "      0.0\n",
        "    ]\n",
        "  }, \n",
        "  \"when\": {\n",
        "    \"earliest\": \"2014-04-23\", \n",
        "    \"type\": \"Instant\", \n",
        "    \"latest\": \"2014-04-25\", \n",
        "    \"datetime\": \"2014-04-24\"\n",
        "  }, \n",
        "  \"type\": \"Feature\"\n",
        "}\n"
       ]
      }
     ],
     "prompt_number": 5
    },
    {
     "cell_type": "code",
     "collapsed": false,
     "input": [
      "fuzzy_interval = {\n",
      "    'type': 'Feature',\n",
      "    'geometry': {'type': 'Point', 'coordinates': [0.0, 0.0]},\n",
      "    'when': {'type': 'Interval', 'start': '2014-04-24', 'earliest': '2014-04-23'}}\n",
      "print json.dumps(fuzzy_interval, indent=2)"
     ],
     "language": "python",
     "metadata": {},
     "outputs": [
      {
       "output_type": "stream",
       "stream": "stdout",
       "text": [
        "{\n",
        "  \"geometry\": {\n",
        "    \"type\": \"Point\", \n",
        "    \"coordinates\": [\n",
        "      0.0, \n",
        "      0.0\n",
        "    ]\n",
        "  }, \n",
        "  \"when\": {\n",
        "    \"start\": \"2014-04-24\", \n",
        "    \"earliest\": \"2014-04-23\", \n",
        "    \"type\": \"Interval\"\n",
        "  }, \n",
        "  \"type\": \"Feature\"\n",
        "}\n"
       ]
      }
     ],
     "prompt_number": 7
    },
    {
     "cell_type": "code",
     "collapsed": false,
     "input": [],
     "language": "python",
     "metadata": {},
     "outputs": []
    }
   ],
   "metadata": {}
  }
 ]
}